{
 "cells": [
  {
   "cell_type": "markdown",
   "id": "438d9c03",
   "metadata": {},
   "source": [
    "# Data info\n",
    "- [Dacon] 고객 대출등급 분류\n",
    "- https://dacon.io/competitions/official/236214/overview/description"
   ]
  },
  {
   "cell_type": "markdown",
   "id": "5252ee1f",
   "metadata": {},
   "source": [
    "- 5개 팀의 코드를 참고하여 분석 진행해보기"
   ]
  },
  {
   "cell_type": "markdown",
   "id": "6b40a8e2",
   "metadata": {},
   "source": [
    "# Data load"
   ]
  },
  {
   "cell_type": "code",
   "execution_count": 1,
   "id": "fc226fef",
   "metadata": {},
   "outputs": [],
   "source": [
    "import pandas as pd\n",
    "import numpy as np\n",
    "import matplotlib.pyplot as plt\n",
    "import seaborn as sns"
   ]
  },
  {
   "cell_type": "code",
   "execution_count": 2,
   "id": "9d0671c1",
   "metadata": {},
   "outputs": [],
   "source": [
    "train = pd.read_csv(\"./data/credit_rating_train.csv\")\n",
    "test = pd.read_csv(\"./data/credit_rating_test.csv\")\n",
    "sample_submission = pd.read_csv(\"./data/credit_rating_sample_submission.csv\")"
   ]
  },
  {
   "cell_type": "code",
   "execution_count": 3,
   "id": "92a6909e",
   "metadata": {},
   "outputs": [
    {
     "data": {
      "text/html": [
       "<div>\n",
       "<style scoped>\n",
       "    .dataframe tbody tr th:only-of-type {\n",
       "        vertical-align: middle;\n",
       "    }\n",
       "\n",
       "    .dataframe tbody tr th {\n",
       "        vertical-align: top;\n",
       "    }\n",
       "\n",
       "    .dataframe thead th {\n",
       "        text-align: right;\n",
       "    }\n",
       "</style>\n",
       "<table border=\"1\" class=\"dataframe\">\n",
       "  <thead>\n",
       "    <tr style=\"text-align: right;\">\n",
       "      <th></th>\n",
       "      <th>ID</th>\n",
       "      <th>대출금액</th>\n",
       "      <th>대출기간</th>\n",
       "      <th>근로기간</th>\n",
       "      <th>주택소유상태</th>\n",
       "      <th>연간소득</th>\n",
       "      <th>부채_대비_소득_비율</th>\n",
       "      <th>총계좌수</th>\n",
       "      <th>대출목적</th>\n",
       "      <th>최근_2년간_연체_횟수</th>\n",
       "      <th>총상환원금</th>\n",
       "      <th>총상환이자</th>\n",
       "      <th>총연체금액</th>\n",
       "      <th>연체계좌수</th>\n",
       "      <th>대출등급</th>\n",
       "    </tr>\n",
       "  </thead>\n",
       "  <tbody>\n",
       "    <tr>\n",
       "      <th>0</th>\n",
       "      <td>TRAIN_00000</td>\n",
       "      <td>12480000</td>\n",
       "      <td>36 months</td>\n",
       "      <td>6 years</td>\n",
       "      <td>RENT</td>\n",
       "      <td>72000000</td>\n",
       "      <td>18.90</td>\n",
       "      <td>15</td>\n",
       "      <td>부채 통합</td>\n",
       "      <td>0</td>\n",
       "      <td>0</td>\n",
       "      <td>0</td>\n",
       "      <td>0</td>\n",
       "      <td>0</td>\n",
       "      <td>C</td>\n",
       "    </tr>\n",
       "    <tr>\n",
       "      <th>1</th>\n",
       "      <td>TRAIN_00001</td>\n",
       "      <td>14400000</td>\n",
       "      <td>60 months</td>\n",
       "      <td>10+ years</td>\n",
       "      <td>MORTGAGE</td>\n",
       "      <td>130800000</td>\n",
       "      <td>22.33</td>\n",
       "      <td>21</td>\n",
       "      <td>주택 개선</td>\n",
       "      <td>0</td>\n",
       "      <td>373572</td>\n",
       "      <td>234060</td>\n",
       "      <td>0</td>\n",
       "      <td>0</td>\n",
       "      <td>B</td>\n",
       "    </tr>\n",
       "    <tr>\n",
       "      <th>2</th>\n",
       "      <td>TRAIN_00002</td>\n",
       "      <td>12000000</td>\n",
       "      <td>36 months</td>\n",
       "      <td>5 years</td>\n",
       "      <td>MORTGAGE</td>\n",
       "      <td>96000000</td>\n",
       "      <td>8.60</td>\n",
       "      <td>14</td>\n",
       "      <td>부채 통합</td>\n",
       "      <td>0</td>\n",
       "      <td>928644</td>\n",
       "      <td>151944</td>\n",
       "      <td>0</td>\n",
       "      <td>0</td>\n",
       "      <td>A</td>\n",
       "    </tr>\n",
       "    <tr>\n",
       "      <th>3</th>\n",
       "      <td>TRAIN_00003</td>\n",
       "      <td>14400000</td>\n",
       "      <td>36 months</td>\n",
       "      <td>8 years</td>\n",
       "      <td>MORTGAGE</td>\n",
       "      <td>132000000</td>\n",
       "      <td>15.09</td>\n",
       "      <td>15</td>\n",
       "      <td>부채 통합</td>\n",
       "      <td>0</td>\n",
       "      <td>325824</td>\n",
       "      <td>153108</td>\n",
       "      <td>0</td>\n",
       "      <td>0</td>\n",
       "      <td>C</td>\n",
       "    </tr>\n",
       "    <tr>\n",
       "      <th>4</th>\n",
       "      <td>TRAIN_00004</td>\n",
       "      <td>18000000</td>\n",
       "      <td>60 months</td>\n",
       "      <td>Unknown</td>\n",
       "      <td>RENT</td>\n",
       "      <td>71736000</td>\n",
       "      <td>25.39</td>\n",
       "      <td>19</td>\n",
       "      <td>주요 구매</td>\n",
       "      <td>0</td>\n",
       "      <td>228540</td>\n",
       "      <td>148956</td>\n",
       "      <td>0</td>\n",
       "      <td>0</td>\n",
       "      <td>B</td>\n",
       "    </tr>\n",
       "  </tbody>\n",
       "</table>\n",
       "</div>"
      ],
      "text/plain": [
       "            ID      대출금액       대출기간       근로기간    주택소유상태       연간소득  \\\n",
       "0  TRAIN_00000  12480000  36 months    6 years      RENT   72000000   \n",
       "1  TRAIN_00001  14400000  60 months  10+ years  MORTGAGE  130800000   \n",
       "2  TRAIN_00002  12000000  36 months    5 years  MORTGAGE   96000000   \n",
       "3  TRAIN_00003  14400000  36 months    8 years  MORTGAGE  132000000   \n",
       "4  TRAIN_00004  18000000  60 months    Unknown      RENT   71736000   \n",
       "\n",
       "   부채_대비_소득_비율  총계좌수   대출목적  최근_2년간_연체_횟수   총상환원금   총상환이자  총연체금액  연체계좌수 대출등급  \n",
       "0        18.90    15  부채 통합             0       0       0      0      0    C  \n",
       "1        22.33    21  주택 개선             0  373572  234060      0      0    B  \n",
       "2         8.60    14  부채 통합             0  928644  151944      0      0    A  \n",
       "3        15.09    15  부채 통합             0  325824  153108      0      0    C  \n",
       "4        25.39    19  주요 구매             0  228540  148956      0      0    B  "
      ]
     },
     "execution_count": 3,
     "metadata": {},
     "output_type": "execute_result"
    }
   ],
   "source": [
    "train.head()"
   ]
  },
  {
   "cell_type": "code",
   "execution_count": 4,
   "id": "2b7b59f4",
   "metadata": {},
   "outputs": [
    {
     "data": {
      "text/html": [
       "<div>\n",
       "<style scoped>\n",
       "    .dataframe tbody tr th:only-of-type {\n",
       "        vertical-align: middle;\n",
       "    }\n",
       "\n",
       "    .dataframe tbody tr th {\n",
       "        vertical-align: top;\n",
       "    }\n",
       "\n",
       "    .dataframe thead th {\n",
       "        text-align: right;\n",
       "    }\n",
       "</style>\n",
       "<table border=\"1\" class=\"dataframe\">\n",
       "  <thead>\n",
       "    <tr style=\"text-align: right;\">\n",
       "      <th></th>\n",
       "      <th>ID</th>\n",
       "      <th>대출금액</th>\n",
       "      <th>대출기간</th>\n",
       "      <th>근로기간</th>\n",
       "      <th>주택소유상태</th>\n",
       "      <th>연간소득</th>\n",
       "      <th>부채_대비_소득_비율</th>\n",
       "      <th>총계좌수</th>\n",
       "      <th>대출목적</th>\n",
       "      <th>최근_2년간_연체_횟수</th>\n",
       "      <th>총상환원금</th>\n",
       "      <th>총상환이자</th>\n",
       "      <th>총연체금액</th>\n",
       "      <th>연체계좌수</th>\n",
       "    </tr>\n",
       "  </thead>\n",
       "  <tbody>\n",
       "    <tr>\n",
       "      <th>0</th>\n",
       "      <td>TEST_00000</td>\n",
       "      <td>16800000</td>\n",
       "      <td>36 months</td>\n",
       "      <td>8 years</td>\n",
       "      <td>MORTGAGE</td>\n",
       "      <td>132000000</td>\n",
       "      <td>19.64</td>\n",
       "      <td>12</td>\n",
       "      <td>주택 개선</td>\n",
       "      <td>0</td>\n",
       "      <td>394692</td>\n",
       "      <td>146604</td>\n",
       "      <td>0</td>\n",
       "      <td>0</td>\n",
       "    </tr>\n",
       "    <tr>\n",
       "      <th>1</th>\n",
       "      <td>TEST_00001</td>\n",
       "      <td>8400000</td>\n",
       "      <td>36 months</td>\n",
       "      <td>5 years</td>\n",
       "      <td>RENT</td>\n",
       "      <td>89971200</td>\n",
       "      <td>15.84</td>\n",
       "      <td>25</td>\n",
       "      <td>부채 통합</td>\n",
       "      <td>0</td>\n",
       "      <td>0</td>\n",
       "      <td>0</td>\n",
       "      <td>0</td>\n",
       "      <td>0</td>\n",
       "    </tr>\n",
       "    <tr>\n",
       "      <th>2</th>\n",
       "      <td>TEST_00002</td>\n",
       "      <td>17280000</td>\n",
       "      <td>36 months</td>\n",
       "      <td>6 years</td>\n",
       "      <td>RENT</td>\n",
       "      <td>150000000</td>\n",
       "      <td>8.41</td>\n",
       "      <td>20</td>\n",
       "      <td>신용 카드</td>\n",
       "      <td>0</td>\n",
       "      <td>1786980</td>\n",
       "      <td>281820</td>\n",
       "      <td>0</td>\n",
       "      <td>0</td>\n",
       "    </tr>\n",
       "    <tr>\n",
       "      <th>3</th>\n",
       "      <td>TEST_00003</td>\n",
       "      <td>14400000</td>\n",
       "      <td>36 months</td>\n",
       "      <td>5 years</td>\n",
       "      <td>MORTGAGE</td>\n",
       "      <td>66000000</td>\n",
       "      <td>13.72</td>\n",
       "      <td>30</td>\n",
       "      <td>신용 카드</td>\n",
       "      <td>1</td>\n",
       "      <td>669024</td>\n",
       "      <td>281724</td>\n",
       "      <td>0</td>\n",
       "      <td>0</td>\n",
       "    </tr>\n",
       "    <tr>\n",
       "      <th>4</th>\n",
       "      <td>TEST_00004</td>\n",
       "      <td>27600000</td>\n",
       "      <td>36 months</td>\n",
       "      <td>5 years</td>\n",
       "      <td>RENT</td>\n",
       "      <td>55200000</td>\n",
       "      <td>30.50</td>\n",
       "      <td>12</td>\n",
       "      <td>신용 카드</td>\n",
       "      <td>0</td>\n",
       "      <td>1250052</td>\n",
       "      <td>614844</td>\n",
       "      <td>0</td>\n",
       "      <td>0</td>\n",
       "    </tr>\n",
       "  </tbody>\n",
       "</table>\n",
       "</div>"
      ],
      "text/plain": [
       "           ID      대출금액       대출기간     근로기간    주택소유상태       연간소득  부채_대비_소득_비율  \\\n",
       "0  TEST_00000  16800000  36 months  8 years  MORTGAGE  132000000        19.64   \n",
       "1  TEST_00001   8400000  36 months  5 years      RENT   89971200        15.84   \n",
       "2  TEST_00002  17280000  36 months  6 years      RENT  150000000         8.41   \n",
       "3  TEST_00003  14400000  36 months  5 years  MORTGAGE   66000000        13.72   \n",
       "4  TEST_00004  27600000  36 months  5 years      RENT   55200000        30.50   \n",
       "\n",
       "   총계좌수   대출목적  최근_2년간_연체_횟수    총상환원금   총상환이자  총연체금액  연체계좌수  \n",
       "0    12  주택 개선             0   394692  146604      0      0  \n",
       "1    25  부채 통합             0        0       0      0      0  \n",
       "2    20  신용 카드             0  1786980  281820      0      0  \n",
       "3    30  신용 카드             1   669024  281724      0      0  \n",
       "4    12  신용 카드             0  1250052  614844      0      0  "
      ]
     },
     "execution_count": 4,
     "metadata": {},
     "output_type": "execute_result"
    }
   ],
   "source": [
    "test.head()"
   ]
  },
  {
   "cell_type": "code",
   "execution_count": 5,
   "id": "e867bc84",
   "metadata": {},
   "outputs": [
    {
     "data": {
      "text/html": [
       "<div>\n",
       "<style scoped>\n",
       "    .dataframe tbody tr th:only-of-type {\n",
       "        vertical-align: middle;\n",
       "    }\n",
       "\n",
       "    .dataframe tbody tr th {\n",
       "        vertical-align: top;\n",
       "    }\n",
       "\n",
       "    .dataframe thead th {\n",
       "        text-align: right;\n",
       "    }\n",
       "</style>\n",
       "<table border=\"1\" class=\"dataframe\">\n",
       "  <thead>\n",
       "    <tr style=\"text-align: right;\">\n",
       "      <th></th>\n",
       "      <th>ID</th>\n",
       "      <th>대출등급</th>\n",
       "    </tr>\n",
       "  </thead>\n",
       "  <tbody>\n",
       "    <tr>\n",
       "      <th>0</th>\n",
       "      <td>TEST_00000</td>\n",
       "      <td>G</td>\n",
       "    </tr>\n",
       "    <tr>\n",
       "      <th>1</th>\n",
       "      <td>TEST_00001</td>\n",
       "      <td>G</td>\n",
       "    </tr>\n",
       "    <tr>\n",
       "      <th>2</th>\n",
       "      <td>TEST_00002</td>\n",
       "      <td>G</td>\n",
       "    </tr>\n",
       "    <tr>\n",
       "      <th>3</th>\n",
       "      <td>TEST_00003</td>\n",
       "      <td>G</td>\n",
       "    </tr>\n",
       "    <tr>\n",
       "      <th>4</th>\n",
       "      <td>TEST_00004</td>\n",
       "      <td>G</td>\n",
       "    </tr>\n",
       "  </tbody>\n",
       "</table>\n",
       "</div>"
      ],
      "text/plain": [
       "           ID 대출등급\n",
       "0  TEST_00000    G\n",
       "1  TEST_00001    G\n",
       "2  TEST_00002    G\n",
       "3  TEST_00003    G\n",
       "4  TEST_00004    G"
      ]
     },
     "execution_count": 5,
     "metadata": {},
     "output_type": "execute_result"
    }
   ],
   "source": [
    "sample_submission.head()"
   ]
  },
  {
   "cell_type": "code",
   "execution_count": 6,
   "id": "45dd8ebc",
   "metadata": {},
   "outputs": [
    {
     "name": "stdout",
     "output_type": "stream",
     "text": [
      "(96294, 15)\n",
      "(64197, 14)\n",
      "(64197, 2)\n"
     ]
    }
   ],
   "source": [
    "print(train.shape)\n",
    "print(test.shape)\n",
    "print(sample_submission.shape)"
   ]
  },
  {
   "cell_type": "markdown",
   "id": "39276f83",
   "metadata": {},
   "source": [
    "# EDA"
   ]
  },
  {
   "cell_type": "code",
   "execution_count": 7,
   "id": "4630945f",
   "metadata": {},
   "outputs": [
    {
     "name": "stdout",
     "output_type": "stream",
     "text": [
      "<class 'pandas.core.frame.DataFrame'>\n",
      "RangeIndex: 96294 entries, 0 to 96293\n",
      "Data columns (total 15 columns):\n",
      " #   Column        Non-Null Count  Dtype  \n",
      "---  ------        --------------  -----  \n",
      " 0   ID            96294 non-null  object \n",
      " 1   대출금액          96294 non-null  int64  \n",
      " 2   대출기간          96294 non-null  object \n",
      " 3   근로기간          96294 non-null  object \n",
      " 4   주택소유상태        96294 non-null  object \n",
      " 5   연간소득          96294 non-null  int64  \n",
      " 6   부채_대비_소득_비율   96294 non-null  float64\n",
      " 7   총계좌수          96294 non-null  int64  \n",
      " 8   대출목적          96294 non-null  object \n",
      " 9   최근_2년간_연체_횟수  96294 non-null  int64  \n",
      " 10  총상환원금         96294 non-null  int64  \n",
      " 11  총상환이자         96294 non-null  int64  \n",
      " 12  총연체금액         96294 non-null  int64  \n",
      " 13  연체계좌수         96294 non-null  int64  \n",
      " 14  대출등급          96294 non-null  object \n",
      "dtypes: float64(1), int64(8), object(6)\n",
      "memory usage: 11.0+ MB\n"
     ]
    }
   ],
   "source": [
    "train.info()"
   ]
  },
  {
   "cell_type": "code",
   "execution_count": 9,
   "id": "95b62bf8",
   "metadata": {},
   "outputs": [
    {
     "data": {
      "text/plain": [
       "ID              0\n",
       "대출금액            0\n",
       "대출기간            0\n",
       "근로기간            0\n",
       "주택소유상태          0\n",
       "연간소득            0\n",
       "부채_대비_소득_비율     0\n",
       "총계좌수            0\n",
       "대출목적            0\n",
       "최근_2년간_연체_횟수    0\n",
       "총상환원금           0\n",
       "총상환이자           0\n",
       "총연체금액           0\n",
       "연체계좌수           0\n",
       "대출등급            0\n",
       "dtype: int64"
      ]
     },
     "execution_count": 9,
     "metadata": {},
     "output_type": "execute_result"
    }
   ],
   "source": [
    "train.isnull().sum()"
   ]
  },
  {
   "cell_type": "markdown",
   "id": "11568cd4",
   "metadata": {},
   "source": [
    "- 데이터 상에는 결측치 없음.\n",
    "- 그러나, head로 확인했을 때 근로기간에 Unknown 값이 있었으므로 결측치라고 볼 수도 있을 것."
   ]
  },
  {
   "cell_type": "markdown",
   "id": "422f7ae3",
   "metadata": {},
   "source": [
    "## 근로기간"
   ]
  },
  {
   "cell_type": "code",
   "execution_count": 10,
   "id": "823ccf5f",
   "metadata": {
    "scrolled": true
   },
   "outputs": [
    {
     "data": {
      "text/plain": [
       "근로기간\n",
       "10+ years    31585\n",
       "2 years       8450\n",
       "< 1 year      7774\n",
       "3 years       7581\n",
       "1 year        6249\n",
       "Unknown       5671\n",
       "5 years       5665\n",
       "4 years       5588\n",
       "8 years       4888\n",
       "6 years       3874\n",
       "7 years       3814\n",
       "9 years       3744\n",
       "10+years       896\n",
       "<1 year        370\n",
       "3               89\n",
       "1 years         56\n",
       "Name: count, dtype: int64"
      ]
     },
     "execution_count": 10,
     "metadata": {},
     "output_type": "execute_result"
    }
   ],
   "source": [
    "train[\"근로기간\"].value_counts()"
   ]
  },
  {
   "cell_type": "markdown",
   "id": "60784d75",
   "metadata": {},
   "source": [
    "- 띄어쓰기 등의 차이로 중복값 존재"
   ]
  },
  {
   "cell_type": "markdown",
   "id": "52a55ea8",
   "metadata": {},
   "source": [
    "## 범주형 변수 확인"
   ]
  },
  {
   "cell_type": "code",
   "execution_count": 7,
   "id": "d033da20",
   "metadata": {},
   "outputs": [
    {
     "data": {
      "text/plain": [
       "ID              96294\n",
       "대출금액             1340\n",
       "대출기간                2\n",
       "근로기간               16\n",
       "주택소유상태              4\n",
       "연간소득             7726\n",
       "부채_대비_소득_비율      4025\n",
       "총계좌수              109\n",
       "대출목적               12\n",
       "최근_2년간_연체_횟수       20\n",
       "총상환원금           27797\n",
       "총상환이자           35626\n",
       "총연체금액             109\n",
       "연체계좌수               4\n",
       "대출등급                7\n",
       "dtype: int64"
      ]
     },
     "execution_count": 7,
     "metadata": {},
     "output_type": "execute_result"
    }
   ],
   "source": [
    "train.nunique()"
   ]
  },
  {
   "cell_type": "code",
   "execution_count": 8,
   "id": "e2f10703",
   "metadata": {
    "scrolled": true
   },
   "outputs": [
    {
     "data": {
      "text/plain": [
       "ID              64197\n",
       "대출금액             1309\n",
       "대출기간                2\n",
       "근로기간               16\n",
       "주택소유상태              3\n",
       "연간소득             5842\n",
       "부채_대비_소득_비율      3992\n",
       "총계좌수              105\n",
       "대출목적               13\n",
       "최근_2년간_연체_횟수       16\n",
       "총상환원금           21547\n",
       "총상환이자           27902\n",
       "총연체금액              71\n",
       "연체계좌수               5\n",
       "dtype: int64"
      ]
     },
     "execution_count": 8,
     "metadata": {},
     "output_type": "execute_result"
    }
   ],
   "source": [
    "test.nunique()"
   ]
  },
  {
   "cell_type": "markdown",
   "id": "213697a9",
   "metadata": {},
   "source": [
    "- 범주가 20개 이하인 컬럼만 확인해본다."
   ]
  },
  {
   "cell_type": "code",
   "execution_count": 17,
   "id": "36fecaf8",
   "metadata": {},
   "outputs": [
    {
     "name": "stdout",
     "output_type": "stream",
     "text": [
      "대출기간\n",
      "36 months    64479\n",
      "60 months    31815\n",
      "Name: count, dtype: int64 \n",
      "\n",
      "근로기간\n",
      "10+ years    31585\n",
      "2 years       8450\n",
      "< 1 year      7774\n",
      "3 years       7581\n",
      "1 year        6249\n",
      "Unknown       5671\n",
      "5 years       5665\n",
      "4 years       5588\n",
      "8 years       4888\n",
      "6 years       3874\n",
      "7 years       3814\n",
      "9 years       3744\n",
      "10+years       896\n",
      "<1 year        370\n",
      "3               89\n",
      "1 years         56\n",
      "Name: count, dtype: int64 \n",
      "\n",
      "주택소유상태\n",
      "MORTGAGE    47934\n",
      "RENT        37705\n",
      "OWN         10654\n",
      "ANY             1\n",
      "Name: count, dtype: int64 \n",
      "\n",
      "대출목적\n",
      "부채 통합     55150\n",
      "신용 카드     24500\n",
      "주택 개선      6160\n",
      "기타         4725\n",
      "주요 구매      1803\n",
      "의료         1039\n",
      "자동차         797\n",
      "소규모 사업      787\n",
      "이사          506\n",
      "휴가          466\n",
      "주택          301\n",
      "재생 에너지       60\n",
      "Name: count, dtype: int64 \n",
      "\n",
      "최근_2년간_연체_횟수\n",
      "0     76392\n",
      "1     13079\n",
      "2      3896\n",
      "3      1430\n",
      "4       697\n",
      "5       338\n",
      "6       178\n",
      "7        86\n",
      "8        67\n",
      "9        40\n",
      "10       35\n",
      "11       21\n",
      "12        9\n",
      "14        8\n",
      "13        8\n",
      "16        4\n",
      "18        2\n",
      "15        2\n",
      "17        1\n",
      "30        1\n",
      "Name: count, dtype: int64 \n",
      "\n",
      "연체계좌수\n",
      "0    95762\n",
      "1      507\n",
      "2       24\n",
      "4        1\n",
      "Name: count, dtype: int64 \n",
      "\n",
      "대출등급\n",
      "B    28817\n",
      "C    27623\n",
      "A    16772\n",
      "D    13354\n",
      "E     7354\n",
      "F     1954\n",
      "G      420\n",
      "Name: count, dtype: int64 \n",
      "\n"
     ]
    }
   ],
   "source": [
    "# train\n",
    "nuniq = train.nunique()\n",
    "\n",
    "for col in nuniq[nuniq < 21].index:\n",
    "    \n",
    "    print(train[col].value_counts(), \"\\n\")"
   ]
  },
  {
   "cell_type": "code",
   "execution_count": 16,
   "id": "58f8ed88",
   "metadata": {},
   "outputs": [
    {
     "name": "stdout",
     "output_type": "stream",
     "text": [
      "대출기간\n",
      "36 months    43229\n",
      "60 months    20968\n",
      "Name: count, dtype: int64 \n",
      "\n",
      "근로기간\n",
      "10+ years    20937\n",
      "2 years       5609\n",
      "< 1 year      5143\n",
      "3 years       5036\n",
      "1 year        4235\n",
      "5 years       3927\n",
      "Unknown       3862\n",
      "4 years       3662\n",
      "8 years       3284\n",
      "9 years       2545\n",
      "7 years       2515\n",
      "6 years       2479\n",
      "10+years       616\n",
      "<1 year        259\n",
      "3               49\n",
      "1 years         39\n",
      "Name: count, dtype: int64 \n",
      "\n",
      "주택소유상태\n",
      "MORTGAGE    31739\n",
      "RENT        25281\n",
      "OWN          7177\n",
      "Name: count, dtype: int64 \n",
      "\n",
      "대출목적\n",
      "부채 통합     37054\n",
      "신용 카드     16204\n",
      "주택 개선      4019\n",
      "기타         3032\n",
      "주요 구매      1244\n",
      "의료          696\n",
      "소규모 사업      541\n",
      "자동차         536\n",
      "이사          362\n",
      "휴가          294\n",
      "주택          185\n",
      "재생 에너지       29\n",
      "결혼            1\n",
      "Name: count, dtype: int64 \n",
      "\n",
      "최근_2년간_연체_횟수\n",
      "0     50966\n",
      "1      8703\n",
      "2      2594\n",
      "3       968\n",
      "4       436\n",
      "5       218\n",
      "6       125\n",
      "7        72\n",
      "8        35\n",
      "9        24\n",
      "10       22\n",
      "11       14\n",
      "13        9\n",
      "12        7\n",
      "15        2\n",
      "14        2\n",
      "Name: count, dtype: int64 \n",
      "\n",
      "연체계좌수\n",
      "0    63869\n",
      "1      307\n",
      "2       18\n",
      "3        2\n",
      "4        1\n",
      "Name: count, dtype: int64 \n",
      "\n"
     ]
    }
   ],
   "source": [
    "# test\n",
    "nuniq = test.nunique()\n",
    "\n",
    "for col in nuniq[nuniq < 21].index:\n",
    "    print(test[col].value_counts(), \"\\n\")"
   ]
  },
  {
   "cell_type": "markdown",
   "id": "b1924108",
   "metadata": {},
   "source": [
    "### 주택소유상태 - \"ANY\" 확인"
   ]
  },
  {
   "cell_type": "code",
   "execution_count": 9,
   "id": "e5a5f5fb",
   "metadata": {},
   "outputs": [
    {
     "data": {
      "text/plain": [
       "주택소유상태\n",
       "MORTGAGE    47934\n",
       "RENT        37705\n",
       "OWN         10654\n",
       "ANY             1\n",
       "Name: count, dtype: int64"
      ]
     },
     "execution_count": 9,
     "metadata": {},
     "output_type": "execute_result"
    }
   ],
   "source": [
    "train[\"주택소유상태\"].value_counts()"
   ]
  },
  {
   "cell_type": "code",
   "execution_count": 10,
   "id": "daa11e74",
   "metadata": {
    "scrolled": true
   },
   "outputs": [
    {
     "data": {
      "text/plain": [
       "주택소유상태\n",
       "MORTGAGE    31739\n",
       "RENT        25281\n",
       "OWN          7177\n",
       "Name: count, dtype: int64"
      ]
     },
     "execution_count": 10,
     "metadata": {},
     "output_type": "execute_result"
    }
   ],
   "source": [
    "test[\"주택소유상태\"].value_counts()"
   ]
  },
  {
   "cell_type": "markdown",
   "id": "7b6b787d",
   "metadata": {},
   "source": [
    "- test 데이터에도 없고, train 데이터에서도 1개뿐이므로 삭제해준다."
   ]
  },
  {
   "cell_type": "code",
   "execution_count": 23,
   "id": "d9dec695",
   "metadata": {},
   "outputs": [
    {
     "data": {
      "text/plain": [
       "array(['RENT', 'MORTGAGE', 'OWN'], dtype=object)"
      ]
     },
     "execution_count": 23,
     "metadata": {},
     "output_type": "execute_result"
    }
   ],
   "source": [
    "train = train[train[\"주택소유상태\"]!=\"ANY\"]\n",
    "\n",
    "# 확인\n",
    "train[\"주택소유상태\"].unique()"
   ]
  },
  {
   "cell_type": "markdown",
   "id": "0268802d",
   "metadata": {},
   "source": [
    "### 대출기간 확인"
   ]
  },
  {
   "cell_type": "code",
   "execution_count": 11,
   "id": "1d957538",
   "metadata": {},
   "outputs": [
    {
     "data": {
      "text/plain": [
       "array(['36 months', '60 months'], dtype=object)"
      ]
     },
     "execution_count": 11,
     "metadata": {},
     "output_type": "execute_result"
    }
   ],
   "source": [
    "train[\"대출기간\"].unique()"
   ]
  },
  {
   "cell_type": "markdown",
   "id": "74a25ed7",
   "metadata": {},
   "source": [
    "- 대출 시 선택지가 2가지뿐인듯"
   ]
  },
  {
   "cell_type": "code",
   "execution_count": null,
   "id": "6df35bfd",
   "metadata": {},
   "outputs": [],
   "source": []
  },
  {
   "cell_type": "code",
   "execution_count": null,
   "id": "5770c618",
   "metadata": {},
   "outputs": [],
   "source": []
  },
  {
   "cell_type": "code",
   "execution_count": null,
   "id": "09bcac15",
   "metadata": {},
   "outputs": [],
   "source": []
  },
  {
   "cell_type": "code",
   "execution_count": null,
   "id": "44da4ee6",
   "metadata": {},
   "outputs": [],
   "source": []
  },
  {
   "cell_type": "code",
   "execution_count": null,
   "id": "1f981118",
   "metadata": {},
   "outputs": [],
   "source": []
  }
 ],
 "metadata": {
  "kernelspec": {
   "display_name": "Python 3 (ipykernel)",
   "language": "python",
   "name": "python3"
  },
  "language_info": {
   "codemirror_mode": {
    "name": "ipython",
    "version": 3
   },
   "file_extension": ".py",
   "mimetype": "text/x-python",
   "name": "python",
   "nbconvert_exporter": "python",
   "pygments_lexer": "ipython3",
   "version": "3.11.7"
  },
  "toc": {
   "base_numbering": 1,
   "nav_menu": {},
   "number_sections": true,
   "sideBar": true,
   "skip_h1_title": false,
   "title_cell": "Table of Contents",
   "title_sidebar": "Contents",
   "toc_cell": false,
   "toc_position": {
    "height": "calc(100% - 180px)",
    "left": "10px",
    "top": "150px",
    "width": "262.4px"
   },
   "toc_section_display": true,
   "toc_window_display": true
  }
 },
 "nbformat": 4,
 "nbformat_minor": 5
}
